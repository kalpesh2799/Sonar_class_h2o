{
 "cells": [
  {
   "cell_type": "code",
   "execution_count": 1,
   "metadata": {},
   "outputs": [
    {
     "name": "stdout",
     "output_type": "stream",
     "text": [
      "Collecting h2o\n",
      "  Downloading h2o-3.32.1.4.tar.gz (164.8 MB)\n",
      "Requirement already satisfied: requests in c:\\users\\lenovo\\anaconda3\\lib\\site-packages (from h2o) (2.24.0)\n",
      "Collecting tabulate\n",
      "  Downloading tabulate-0.8.9-py3-none-any.whl (25 kB)\n",
      "Requirement already satisfied: future in c:\\users\\lenovo\\anaconda3\\lib\\site-packages (from h2o) (0.18.2)\n",
      "Requirement already satisfied: colorama>=0.3.8 in c:\\users\\lenovo\\anaconda3\\lib\\site-packages (from h2o) (0.4.3)\n",
      "Requirement already satisfied: idna<3,>=2.5 in c:\\users\\lenovo\\anaconda3\\lib\\site-packages (from requests->h2o) (2.10)\n",
      "Requirement already satisfied: chardet<4,>=3.0.2 in c:\\users\\lenovo\\anaconda3\\lib\\site-packages (from requests->h2o) (3.0.4)\n",
      "Requirement already satisfied: certifi>=2017.4.17 in c:\\users\\lenovo\\anaconda3\\lib\\site-packages (from requests->h2o) (2020.6.20)\n",
      "Requirement already satisfied: urllib3!=1.25.0,!=1.25.1,<1.26,>=1.21.1 in c:\\users\\lenovo\\anaconda3\\lib\\site-packages (from requests->h2o) (1.25.9)\n",
      "Building wheels for collected packages: h2o\n",
      "  Building wheel for h2o (setup.py): started\n",
      "  Building wheel for h2o (setup.py): finished with status 'done'\n",
      "  Created wheel for h2o: filename=h2o-3.32.1.4-py2.py3-none-any.whl size=164871668 sha256=dccf2ebfa1d493a4f777853d2a4eed69d4492d72588b7b3a73f689c6fb6cbc50\n",
      "  Stored in directory: c:\\users\\lenovo\\appdata\\local\\pip\\cache\\wheels\\7e\\18\\26\\bee4909adb7fc0dbf434a225857665ac9bd80ba61a0743c14a\n",
      "Successfully built h2o\n",
      "Installing collected packages: tabulate, h2o\n",
      "Successfully installed h2o-3.32.1.4 tabulate-0.8.9\n",
      "Note: you may need to restart the kernel to use updated packages.\n"
     ]
    }
   ],
   "source": [
    "pip install h2o"
   ]
  },
  {
   "cell_type": "code",
   "execution_count": 2,
   "metadata": {},
   "outputs": [
    {
     "name": "stdout",
     "output_type": "stream",
     "text": [
      "Checking whether there is an H2O instance running at http://localhost:54321 ..... not found.\n",
      "Attempting to start a local H2O server...\n",
      "; Java HotSpot(TM) 64-Bit Server VM (build 25.111-b14, mixed mode)\n",
      "  Starting server from C:\\Users\\LENOVO\\anaconda3\\Lib\\site-packages\\h2o\\backend\\bin\\h2o.jar\n",
      "  Ice root: C:\\Users\\LENOVO\\AppData\\Local\\Temp\\tmp8jl8r219\n",
      "  JVM stdout: C:\\Users\\LENOVO\\AppData\\Local\\Temp\\tmp8jl8r219\\h2o_LENOVO_started_from_python.out\n",
      "  JVM stderr: C:\\Users\\LENOVO\\AppData\\Local\\Temp\\tmp8jl8r219\\h2o_LENOVO_started_from_python.err\n",
      "  Server is running at http://127.0.0.1:54337\n",
      "Connecting to H2O server at http://127.0.0.1:54337 ... successful.\n"
     ]
    },
    {
     "data": {
      "text/html": [
       "<div style=\"overflow:auto\"><table style=\"width:50%\"><tr><td>H2O_cluster_uptime:</td>\n",
       "<td>05 secs</td></tr>\n",
       "<tr><td>H2O_cluster_timezone:</td>\n",
       "<td>Asia/Kolkata</td></tr>\n",
       "<tr><td>H2O_data_parsing_timezone:</td>\n",
       "<td>UTC</td></tr>\n",
       "<tr><td>H2O_cluster_version:</td>\n",
       "<td>3.32.1.4</td></tr>\n",
       "<tr><td>H2O_cluster_version_age:</td>\n",
       "<td>23 days </td></tr>\n",
       "<tr><td>H2O_cluster_name:</td>\n",
       "<td>H2O_from_python_LENOVO_yydy4c</td></tr>\n",
       "<tr><td>H2O_cluster_total_nodes:</td>\n",
       "<td>1</td></tr>\n",
       "<tr><td>H2O_cluster_free_memory:</td>\n",
       "<td>1.759 Gb</td></tr>\n",
       "<tr><td>H2O_cluster_total_cores:</td>\n",
       "<td>0</td></tr>\n",
       "<tr><td>H2O_cluster_allowed_cores:</td>\n",
       "<td>0</td></tr>\n",
       "<tr><td>H2O_cluster_status:</td>\n",
       "<td>accepting new members, healthy</td></tr>\n",
       "<tr><td>H2O_connection_url:</td>\n",
       "<td>http://127.0.0.1:54337</td></tr>\n",
       "<tr><td>H2O_connection_proxy:</td>\n",
       "<td>{\"http\": null, \"https\": null}</td></tr>\n",
       "<tr><td>H2O_internal_security:</td>\n",
       "<td>False</td></tr>\n",
       "<tr><td>H2O_API_Extensions:</td>\n",
       "<td>Amazon S3, Algos, AutoML, Core V3, TargetEncoder, Core V4</td></tr>\n",
       "<tr><td>Python_version:</td>\n",
       "<td>3.8.3 final</td></tr></table></div>"
      ],
      "text/plain": [
       "--------------------------  ---------------------------------------------------------\n",
       "H2O_cluster_uptime:         05 secs\n",
       "H2O_cluster_timezone:       Asia/Kolkata\n",
       "H2O_data_parsing_timezone:  UTC\n",
       "H2O_cluster_version:        3.32.1.4\n",
       "H2O_cluster_version_age:    23 days\n",
       "H2O_cluster_name:           H2O_from_python_LENOVO_yydy4c\n",
       "H2O_cluster_total_nodes:    1\n",
       "H2O_cluster_free_memory:    1.759 Gb\n",
       "H2O_cluster_total_cores:    0\n",
       "H2O_cluster_allowed_cores:  0\n",
       "H2O_cluster_status:         accepting new members, healthy\n",
       "H2O_connection_url:         http://127.0.0.1:54337\n",
       "H2O_connection_proxy:       {\"http\": null, \"https\": null}\n",
       "H2O_internal_security:      False\n",
       "H2O_API_Extensions:         Amazon S3, Algos, AutoML, Core V3, TargetEncoder, Core V4\n",
       "Python_version:             3.8.3 final\n",
       "--------------------------  ---------------------------------------------------------"
      ]
     },
     "metadata": {},
     "output_type": "display_data"
    }
   ],
   "source": [
    "import h2o\n",
    "h2o.init()"
   ]
  },
  {
   "cell_type": "code",
   "execution_count": 4,
   "metadata": {},
   "outputs": [
    {
     "name": "stdout",
     "output_type": "stream",
     "text": [
      "Parse progress: |█████████████████████████████████████████████████████████| 100%\n"
     ]
    }
   ],
   "source": [
    "df=h2o.import_file(\"C:/Users/LENOVO/Desktop/Machine Learning Module/Cases/Sonar/Sonar.csv\")"
   ]
  },
  {
   "cell_type": "code",
   "execution_count": 5,
   "metadata": {},
   "outputs": [
    {
     "data": {
      "text/plain": [
       "['V1',\n",
       " 'V2',\n",
       " 'V3',\n",
       " 'V4',\n",
       " 'V5',\n",
       " 'V6',\n",
       " 'V7',\n",
       " 'V8',\n",
       " 'V9',\n",
       " 'V10',\n",
       " 'V11',\n",
       " 'V12',\n",
       " 'V13',\n",
       " 'V14',\n",
       " 'V15',\n",
       " 'V16',\n",
       " 'V17',\n",
       " 'V18',\n",
       " 'V19',\n",
       " 'V20',\n",
       " 'V21',\n",
       " 'V22',\n",
       " 'V23',\n",
       " 'V24',\n",
       " 'V25',\n",
       " 'V26',\n",
       " 'V27',\n",
       " 'V28',\n",
       " 'V29',\n",
       " 'V30',\n",
       " 'V31',\n",
       " 'V32',\n",
       " 'V33',\n",
       " 'V34',\n",
       " 'V35',\n",
       " 'V36',\n",
       " 'V37',\n",
       " 'V38',\n",
       " 'V39',\n",
       " 'V40',\n",
       " 'V41',\n",
       " 'V42',\n",
       " 'V43',\n",
       " 'V44',\n",
       " 'V45',\n",
       " 'V46',\n",
       " 'V47',\n",
       " 'V48',\n",
       " 'V49',\n",
       " 'V50',\n",
       " 'V51',\n",
       " 'V52',\n",
       " 'V53',\n",
       " 'V54',\n",
       " 'V55',\n",
       " 'V56',\n",
       " 'V57',\n",
       " 'V58',\n",
       " 'V59',\n",
       " 'V60',\n",
       " 'Class']"
      ]
     },
     "execution_count": 5,
     "metadata": {},
     "output_type": "execute_result"
    }
   ],
   "source": [
    "df.col_names"
   ]
  },
  {
   "cell_type": "code",
   "execution_count": 6,
   "metadata": {},
   "outputs": [],
   "source": [
    "y_col = 'Class'\n",
    "x_cols = df.col_names[:60]"
   ]
  },
  {
   "cell_type": "code",
   "execution_count": 7,
   "metadata": {},
   "outputs": [
    {
     "name": "stdout",
     "output_type": "stream",
     "text": [
      "Response = Class\n",
      "Pridictors = ['V1', 'V2', 'V3', 'V4', 'V5', 'V6', 'V7', 'V8', 'V9', 'V10', 'V11', 'V12', 'V13', 'V14', 'V15', 'V16', 'V17', 'V18', 'V19', 'V20', 'V21', 'V22', 'V23', 'V24', 'V25', 'V26', 'V27', 'V28', 'V29', 'V30', 'V31', 'V32', 'V33', 'V34', 'V35', 'V36', 'V37', 'V38', 'V39', 'V40', 'V41', 'V42', 'V43', 'V44', 'V45', 'V46', 'V47', 'V48', 'V49', 'V50', 'V51', 'V52', 'V53', 'V54', 'V55', 'V56', 'V57', 'V58', 'V59', 'V60']\n"
     ]
    }
   ],
   "source": [
    "print(\"Response = \" + y_col)\n",
    "print(\"Pridictors = \" + str(x_cols))"
   ]
  },
  {
   "cell_type": "code",
   "execution_count": 8,
   "metadata": {},
   "outputs": [
    {
     "data": {
      "text/html": [
       "<table>\n",
       "<thead>\n",
       "<tr><th style=\"text-align: right;\">    V1</th><th style=\"text-align: right;\">    V2</th><th style=\"text-align: right;\">    V3</th><th style=\"text-align: right;\">    V4</th><th style=\"text-align: right;\">    V5</th><th style=\"text-align: right;\">    V6</th><th style=\"text-align: right;\">    V7</th><th style=\"text-align: right;\">    V8</th><th style=\"text-align: right;\">    V9</th><th style=\"text-align: right;\">   V10</th><th style=\"text-align: right;\">   V11</th><th style=\"text-align: right;\">   V12</th><th style=\"text-align: right;\">   V13</th><th style=\"text-align: right;\">   V14</th><th style=\"text-align: right;\">   V15</th><th style=\"text-align: right;\">   V16</th><th style=\"text-align: right;\">   V17</th><th style=\"text-align: right;\">   V18</th><th style=\"text-align: right;\">   V19</th><th style=\"text-align: right;\">   V20</th><th style=\"text-align: right;\">   V21</th><th style=\"text-align: right;\">   V22</th><th style=\"text-align: right;\">   V23</th><th style=\"text-align: right;\">   V24</th><th style=\"text-align: right;\">   V25</th><th style=\"text-align: right;\">   V26</th><th style=\"text-align: right;\">   V27</th><th style=\"text-align: right;\">   V28</th><th style=\"text-align: right;\">   V29</th><th style=\"text-align: right;\">   V30</th><th style=\"text-align: right;\">   V31</th><th style=\"text-align: right;\">   V32</th><th style=\"text-align: right;\">   V33</th><th style=\"text-align: right;\">   V34</th><th style=\"text-align: right;\">   V35</th><th style=\"text-align: right;\">   V36</th><th style=\"text-align: right;\">   V37</th><th style=\"text-align: right;\">   V38</th><th style=\"text-align: right;\">   V39</th><th style=\"text-align: right;\">   V40</th><th style=\"text-align: right;\">   V41</th><th style=\"text-align: right;\">   V42</th><th style=\"text-align: right;\">   V43</th><th style=\"text-align: right;\">   V44</th><th style=\"text-align: right;\">   V45</th><th style=\"text-align: right;\">   V46</th><th style=\"text-align: right;\">   V47</th><th style=\"text-align: right;\">   V48</th><th style=\"text-align: right;\">   V49</th><th style=\"text-align: right;\">   V50</th><th style=\"text-align: right;\">   V51</th><th style=\"text-align: right;\">   V52</th><th style=\"text-align: right;\">   V53</th><th style=\"text-align: right;\">   V54</th><th style=\"text-align: right;\">   V55</th><th style=\"text-align: right;\">   V56</th><th style=\"text-align: right;\">   V57</th><th style=\"text-align: right;\">   V58</th><th style=\"text-align: right;\">   V59</th><th style=\"text-align: right;\">   V60</th><th>Class  </th></tr>\n",
       "</thead>\n",
       "<tbody>\n",
       "<tr><td style=\"text-align: right;\">0.02  </td><td style=\"text-align: right;\">0.0371</td><td style=\"text-align: right;\">0.0428</td><td style=\"text-align: right;\">0.0207</td><td style=\"text-align: right;\">0.0954</td><td style=\"text-align: right;\">0.0986</td><td style=\"text-align: right;\">0.1539</td><td style=\"text-align: right;\">0.1601</td><td style=\"text-align: right;\">0.3109</td><td style=\"text-align: right;\">0.2111</td><td style=\"text-align: right;\">0.1609</td><td style=\"text-align: right;\">0.1582</td><td style=\"text-align: right;\">0.2238</td><td style=\"text-align: right;\">0.0645</td><td style=\"text-align: right;\">0.066 </td><td style=\"text-align: right;\">0.2273</td><td style=\"text-align: right;\">0.31  </td><td style=\"text-align: right;\">0.2999</td><td style=\"text-align: right;\">0.5078</td><td style=\"text-align: right;\">0.4797</td><td style=\"text-align: right;\">0.5783</td><td style=\"text-align: right;\">0.5071</td><td style=\"text-align: right;\">0.4328</td><td style=\"text-align: right;\">0.555 </td><td style=\"text-align: right;\">0.6711</td><td style=\"text-align: right;\">0.6415</td><td style=\"text-align: right;\">0.7104</td><td style=\"text-align: right;\">0.808 </td><td style=\"text-align: right;\">0.6791</td><td style=\"text-align: right;\">0.3857</td><td style=\"text-align: right;\">0.1307</td><td style=\"text-align: right;\">0.2604</td><td style=\"text-align: right;\">0.5121</td><td style=\"text-align: right;\">0.7547</td><td style=\"text-align: right;\">0.8537</td><td style=\"text-align: right;\">0.8507</td><td style=\"text-align: right;\">0.6692</td><td style=\"text-align: right;\">0.6097</td><td style=\"text-align: right;\">0.4943</td><td style=\"text-align: right;\">0.2744</td><td style=\"text-align: right;\">0.051 </td><td style=\"text-align: right;\">0.2834</td><td style=\"text-align: right;\">0.2825</td><td style=\"text-align: right;\">0.4256</td><td style=\"text-align: right;\">0.2641</td><td style=\"text-align: right;\">0.1386</td><td style=\"text-align: right;\">0.1051</td><td style=\"text-align: right;\">0.1343</td><td style=\"text-align: right;\">0.0383</td><td style=\"text-align: right;\">0.0324</td><td style=\"text-align: right;\">0.0232</td><td style=\"text-align: right;\">0.0027</td><td style=\"text-align: right;\">0.0065</td><td style=\"text-align: right;\">0.0159</td><td style=\"text-align: right;\">0.0072</td><td style=\"text-align: right;\">0.0167</td><td style=\"text-align: right;\">0.018 </td><td style=\"text-align: right;\">0.0084</td><td style=\"text-align: right;\">0.009 </td><td style=\"text-align: right;\">0.0032</td><td>R      </td></tr>\n",
       "<tr><td style=\"text-align: right;\">0.0453</td><td style=\"text-align: right;\">0.0523</td><td style=\"text-align: right;\">0.0843</td><td style=\"text-align: right;\">0.0689</td><td style=\"text-align: right;\">0.1183</td><td style=\"text-align: right;\">0.2583</td><td style=\"text-align: right;\">0.2156</td><td style=\"text-align: right;\">0.3481</td><td style=\"text-align: right;\">0.3337</td><td style=\"text-align: right;\">0.2872</td><td style=\"text-align: right;\">0.4918</td><td style=\"text-align: right;\">0.6552</td><td style=\"text-align: right;\">0.6919</td><td style=\"text-align: right;\">0.7797</td><td style=\"text-align: right;\">0.7464</td><td style=\"text-align: right;\">0.9444</td><td style=\"text-align: right;\">1     </td><td style=\"text-align: right;\">0.8874</td><td style=\"text-align: right;\">0.8024</td><td style=\"text-align: right;\">0.7818</td><td style=\"text-align: right;\">0.5212</td><td style=\"text-align: right;\">0.4052</td><td style=\"text-align: right;\">0.3957</td><td style=\"text-align: right;\">0.3914</td><td style=\"text-align: right;\">0.325 </td><td style=\"text-align: right;\">0.32  </td><td style=\"text-align: right;\">0.3271</td><td style=\"text-align: right;\">0.2767</td><td style=\"text-align: right;\">0.4423</td><td style=\"text-align: right;\">0.2028</td><td style=\"text-align: right;\">0.3788</td><td style=\"text-align: right;\">0.2947</td><td style=\"text-align: right;\">0.1984</td><td style=\"text-align: right;\">0.2341</td><td style=\"text-align: right;\">0.1306</td><td style=\"text-align: right;\">0.4182</td><td style=\"text-align: right;\">0.3835</td><td style=\"text-align: right;\">0.1057</td><td style=\"text-align: right;\">0.184 </td><td style=\"text-align: right;\">0.197 </td><td style=\"text-align: right;\">0.1674</td><td style=\"text-align: right;\">0.0583</td><td style=\"text-align: right;\">0.1401</td><td style=\"text-align: right;\">0.1628</td><td style=\"text-align: right;\">0.0621</td><td style=\"text-align: right;\">0.0203</td><td style=\"text-align: right;\">0.053 </td><td style=\"text-align: right;\">0.0742</td><td style=\"text-align: right;\">0.0409</td><td style=\"text-align: right;\">0.0061</td><td style=\"text-align: right;\">0.0125</td><td style=\"text-align: right;\">0.0084</td><td style=\"text-align: right;\">0.0089</td><td style=\"text-align: right;\">0.0048</td><td style=\"text-align: right;\">0.0094</td><td style=\"text-align: right;\">0.0191</td><td style=\"text-align: right;\">0.014 </td><td style=\"text-align: right;\">0.0049</td><td style=\"text-align: right;\">0.0052</td><td style=\"text-align: right;\">0.0044</td><td>R      </td></tr>\n",
       "<tr><td style=\"text-align: right;\">0.0262</td><td style=\"text-align: right;\">0.0582</td><td style=\"text-align: right;\">0.1099</td><td style=\"text-align: right;\">0.1083</td><td style=\"text-align: right;\">0.0974</td><td style=\"text-align: right;\">0.228 </td><td style=\"text-align: right;\">0.2431</td><td style=\"text-align: right;\">0.3771</td><td style=\"text-align: right;\">0.5598</td><td style=\"text-align: right;\">0.6194</td><td style=\"text-align: right;\">0.6333</td><td style=\"text-align: right;\">0.706 </td><td style=\"text-align: right;\">0.5544</td><td style=\"text-align: right;\">0.532 </td><td style=\"text-align: right;\">0.6479</td><td style=\"text-align: right;\">0.6931</td><td style=\"text-align: right;\">0.6759</td><td style=\"text-align: right;\">0.7551</td><td style=\"text-align: right;\">0.8929</td><td style=\"text-align: right;\">0.8619</td><td style=\"text-align: right;\">0.7974</td><td style=\"text-align: right;\">0.6737</td><td style=\"text-align: right;\">0.4293</td><td style=\"text-align: right;\">0.3648</td><td style=\"text-align: right;\">0.5331</td><td style=\"text-align: right;\">0.2413</td><td style=\"text-align: right;\">0.507 </td><td style=\"text-align: right;\">0.8533</td><td style=\"text-align: right;\">0.6036</td><td style=\"text-align: right;\">0.8514</td><td style=\"text-align: right;\">0.8512</td><td style=\"text-align: right;\">0.5045</td><td style=\"text-align: right;\">0.1862</td><td style=\"text-align: right;\">0.2709</td><td style=\"text-align: right;\">0.4232</td><td style=\"text-align: right;\">0.3043</td><td style=\"text-align: right;\">0.6116</td><td style=\"text-align: right;\">0.6756</td><td style=\"text-align: right;\">0.5375</td><td style=\"text-align: right;\">0.4719</td><td style=\"text-align: right;\">0.4647</td><td style=\"text-align: right;\">0.2587</td><td style=\"text-align: right;\">0.2129</td><td style=\"text-align: right;\">0.2222</td><td style=\"text-align: right;\">0.2111</td><td style=\"text-align: right;\">0.0176</td><td style=\"text-align: right;\">0.1348</td><td style=\"text-align: right;\">0.0744</td><td style=\"text-align: right;\">0.013 </td><td style=\"text-align: right;\">0.0106</td><td style=\"text-align: right;\">0.0033</td><td style=\"text-align: right;\">0.0232</td><td style=\"text-align: right;\">0.0166</td><td style=\"text-align: right;\">0.0095</td><td style=\"text-align: right;\">0.018 </td><td style=\"text-align: right;\">0.0244</td><td style=\"text-align: right;\">0.0316</td><td style=\"text-align: right;\">0.0164</td><td style=\"text-align: right;\">0.0095</td><td style=\"text-align: right;\">0.0078</td><td>R      </td></tr>\n",
       "<tr><td style=\"text-align: right;\">0.01  </td><td style=\"text-align: right;\">0.0171</td><td style=\"text-align: right;\">0.0623</td><td style=\"text-align: right;\">0.0205</td><td style=\"text-align: right;\">0.0205</td><td style=\"text-align: right;\">0.0368</td><td style=\"text-align: right;\">0.1098</td><td style=\"text-align: right;\">0.1276</td><td style=\"text-align: right;\">0.0598</td><td style=\"text-align: right;\">0.1264</td><td style=\"text-align: right;\">0.0881</td><td style=\"text-align: right;\">0.1992</td><td style=\"text-align: right;\">0.0184</td><td style=\"text-align: right;\">0.2261</td><td style=\"text-align: right;\">0.1729</td><td style=\"text-align: right;\">0.2131</td><td style=\"text-align: right;\">0.0693</td><td style=\"text-align: right;\">0.2281</td><td style=\"text-align: right;\">0.406 </td><td style=\"text-align: right;\">0.3973</td><td style=\"text-align: right;\">0.2741</td><td style=\"text-align: right;\">0.369 </td><td style=\"text-align: right;\">0.5556</td><td style=\"text-align: right;\">0.4846</td><td style=\"text-align: right;\">0.314 </td><td style=\"text-align: right;\">0.5334</td><td style=\"text-align: right;\">0.5256</td><td style=\"text-align: right;\">0.252 </td><td style=\"text-align: right;\">0.209 </td><td style=\"text-align: right;\">0.3559</td><td style=\"text-align: right;\">0.626 </td><td style=\"text-align: right;\">0.734 </td><td style=\"text-align: right;\">0.612 </td><td style=\"text-align: right;\">0.3497</td><td style=\"text-align: right;\">0.3953</td><td style=\"text-align: right;\">0.3012</td><td style=\"text-align: right;\">0.5408</td><td style=\"text-align: right;\">0.8814</td><td style=\"text-align: right;\">0.9857</td><td style=\"text-align: right;\">0.9167</td><td style=\"text-align: right;\">0.6121</td><td style=\"text-align: right;\">0.5006</td><td style=\"text-align: right;\">0.321 </td><td style=\"text-align: right;\">0.3202</td><td style=\"text-align: right;\">0.4295</td><td style=\"text-align: right;\">0.3654</td><td style=\"text-align: right;\">0.2655</td><td style=\"text-align: right;\">0.1576</td><td style=\"text-align: right;\">0.0681</td><td style=\"text-align: right;\">0.0294</td><td style=\"text-align: right;\">0.0241</td><td style=\"text-align: right;\">0.0121</td><td style=\"text-align: right;\">0.0036</td><td style=\"text-align: right;\">0.015 </td><td style=\"text-align: right;\">0.0085</td><td style=\"text-align: right;\">0.0073</td><td style=\"text-align: right;\">0.005 </td><td style=\"text-align: right;\">0.0044</td><td style=\"text-align: right;\">0.004 </td><td style=\"text-align: right;\">0.0117</td><td>R      </td></tr>\n",
       "<tr><td style=\"text-align: right;\">0.0762</td><td style=\"text-align: right;\">0.0666</td><td style=\"text-align: right;\">0.0481</td><td style=\"text-align: right;\">0.0394</td><td style=\"text-align: right;\">0.059 </td><td style=\"text-align: right;\">0.0649</td><td style=\"text-align: right;\">0.1209</td><td style=\"text-align: right;\">0.2467</td><td style=\"text-align: right;\">0.3564</td><td style=\"text-align: right;\">0.4459</td><td style=\"text-align: right;\">0.4152</td><td style=\"text-align: right;\">0.3952</td><td style=\"text-align: right;\">0.4256</td><td style=\"text-align: right;\">0.4135</td><td style=\"text-align: right;\">0.4528</td><td style=\"text-align: right;\">0.5326</td><td style=\"text-align: right;\">0.7306</td><td style=\"text-align: right;\">0.6193</td><td style=\"text-align: right;\">0.2032</td><td style=\"text-align: right;\">0.4636</td><td style=\"text-align: right;\">0.4148</td><td style=\"text-align: right;\">0.4292</td><td style=\"text-align: right;\">0.573 </td><td style=\"text-align: right;\">0.5399</td><td style=\"text-align: right;\">0.3161</td><td style=\"text-align: right;\">0.2285</td><td style=\"text-align: right;\">0.6995</td><td style=\"text-align: right;\">1     </td><td style=\"text-align: right;\">0.7262</td><td style=\"text-align: right;\">0.4724</td><td style=\"text-align: right;\">0.5103</td><td style=\"text-align: right;\">0.5459</td><td style=\"text-align: right;\">0.2881</td><td style=\"text-align: right;\">0.0981</td><td style=\"text-align: right;\">0.1951</td><td style=\"text-align: right;\">0.4181</td><td style=\"text-align: right;\">0.4604</td><td style=\"text-align: right;\">0.3217</td><td style=\"text-align: right;\">0.2828</td><td style=\"text-align: right;\">0.243 </td><td style=\"text-align: right;\">0.1979</td><td style=\"text-align: right;\">0.2444</td><td style=\"text-align: right;\">0.1847</td><td style=\"text-align: right;\">0.0841</td><td style=\"text-align: right;\">0.0692</td><td style=\"text-align: right;\">0.0528</td><td style=\"text-align: right;\">0.0357</td><td style=\"text-align: right;\">0.0085</td><td style=\"text-align: right;\">0.023 </td><td style=\"text-align: right;\">0.0046</td><td style=\"text-align: right;\">0.0156</td><td style=\"text-align: right;\">0.0031</td><td style=\"text-align: right;\">0.0054</td><td style=\"text-align: right;\">0.0105</td><td style=\"text-align: right;\">0.011 </td><td style=\"text-align: right;\">0.0015</td><td style=\"text-align: right;\">0.0072</td><td style=\"text-align: right;\">0.0048</td><td style=\"text-align: right;\">0.0107</td><td style=\"text-align: right;\">0.0094</td><td>R      </td></tr>\n",
       "<tr><td style=\"text-align: right;\">0.0286</td><td style=\"text-align: right;\">0.0453</td><td style=\"text-align: right;\">0.0277</td><td style=\"text-align: right;\">0.0174</td><td style=\"text-align: right;\">0.0384</td><td style=\"text-align: right;\">0.099 </td><td style=\"text-align: right;\">0.1201</td><td style=\"text-align: right;\">0.1833</td><td style=\"text-align: right;\">0.2105</td><td style=\"text-align: right;\">0.3039</td><td style=\"text-align: right;\">0.2988</td><td style=\"text-align: right;\">0.425 </td><td style=\"text-align: right;\">0.6343</td><td style=\"text-align: right;\">0.8198</td><td style=\"text-align: right;\">1     </td><td style=\"text-align: right;\">0.9988</td><td style=\"text-align: right;\">0.9508</td><td style=\"text-align: right;\">0.9025</td><td style=\"text-align: right;\">0.7234</td><td style=\"text-align: right;\">0.5122</td><td style=\"text-align: right;\">0.2074</td><td style=\"text-align: right;\">0.3985</td><td style=\"text-align: right;\">0.589 </td><td style=\"text-align: right;\">0.2872</td><td style=\"text-align: right;\">0.2043</td><td style=\"text-align: right;\">0.5782</td><td style=\"text-align: right;\">0.5389</td><td style=\"text-align: right;\">0.375 </td><td style=\"text-align: right;\">0.3411</td><td style=\"text-align: right;\">0.5067</td><td style=\"text-align: right;\">0.558 </td><td style=\"text-align: right;\">0.4778</td><td style=\"text-align: right;\">0.3299</td><td style=\"text-align: right;\">0.2198</td><td style=\"text-align: right;\">0.1407</td><td style=\"text-align: right;\">0.2856</td><td style=\"text-align: right;\">0.3807</td><td style=\"text-align: right;\">0.4158</td><td style=\"text-align: right;\">0.4054</td><td style=\"text-align: right;\">0.3296</td><td style=\"text-align: right;\">0.2707</td><td style=\"text-align: right;\">0.265 </td><td style=\"text-align: right;\">0.0723</td><td style=\"text-align: right;\">0.1238</td><td style=\"text-align: right;\">0.1192</td><td style=\"text-align: right;\">0.1089</td><td style=\"text-align: right;\">0.0623</td><td style=\"text-align: right;\">0.0494</td><td style=\"text-align: right;\">0.0264</td><td style=\"text-align: right;\">0.0081</td><td style=\"text-align: right;\">0.0104</td><td style=\"text-align: right;\">0.0045</td><td style=\"text-align: right;\">0.0014</td><td style=\"text-align: right;\">0.0038</td><td style=\"text-align: right;\">0.0013</td><td style=\"text-align: right;\">0.0089</td><td style=\"text-align: right;\">0.0057</td><td style=\"text-align: right;\">0.0027</td><td style=\"text-align: right;\">0.0051</td><td style=\"text-align: right;\">0.0062</td><td>R      </td></tr>\n",
       "<tr><td style=\"text-align: right;\">0.0317</td><td style=\"text-align: right;\">0.0956</td><td style=\"text-align: right;\">0.1321</td><td style=\"text-align: right;\">0.1408</td><td style=\"text-align: right;\">0.1674</td><td style=\"text-align: right;\">0.171 </td><td style=\"text-align: right;\">0.0731</td><td style=\"text-align: right;\">0.1401</td><td style=\"text-align: right;\">0.2083</td><td style=\"text-align: right;\">0.3513</td><td style=\"text-align: right;\">0.1786</td><td style=\"text-align: right;\">0.0658</td><td style=\"text-align: right;\">0.0513</td><td style=\"text-align: right;\">0.3752</td><td style=\"text-align: right;\">0.5419</td><td style=\"text-align: right;\">0.544 </td><td style=\"text-align: right;\">0.515 </td><td style=\"text-align: right;\">0.4262</td><td style=\"text-align: right;\">0.2024</td><td style=\"text-align: right;\">0.4233</td><td style=\"text-align: right;\">0.7723</td><td style=\"text-align: right;\">0.9735</td><td style=\"text-align: right;\">0.939 </td><td style=\"text-align: right;\">0.5559</td><td style=\"text-align: right;\">0.5268</td><td style=\"text-align: right;\">0.6826</td><td style=\"text-align: right;\">0.5713</td><td style=\"text-align: right;\">0.5429</td><td style=\"text-align: right;\">0.2177</td><td style=\"text-align: right;\">0.2149</td><td style=\"text-align: right;\">0.5811</td><td style=\"text-align: right;\">0.6323</td><td style=\"text-align: right;\">0.2965</td><td style=\"text-align: right;\">0.1873</td><td style=\"text-align: right;\">0.2969</td><td style=\"text-align: right;\">0.5163</td><td style=\"text-align: right;\">0.6153</td><td style=\"text-align: right;\">0.4283</td><td style=\"text-align: right;\">0.5479</td><td style=\"text-align: right;\">0.6133</td><td style=\"text-align: right;\">0.5017</td><td style=\"text-align: right;\">0.2377</td><td style=\"text-align: right;\">0.1957</td><td style=\"text-align: right;\">0.1749</td><td style=\"text-align: right;\">0.1304</td><td style=\"text-align: right;\">0.0597</td><td style=\"text-align: right;\">0.1124</td><td style=\"text-align: right;\">0.1047</td><td style=\"text-align: right;\">0.0507</td><td style=\"text-align: right;\">0.0159</td><td style=\"text-align: right;\">0.0195</td><td style=\"text-align: right;\">0.0201</td><td style=\"text-align: right;\">0.0248</td><td style=\"text-align: right;\">0.0131</td><td style=\"text-align: right;\">0.007 </td><td style=\"text-align: right;\">0.0138</td><td style=\"text-align: right;\">0.0092</td><td style=\"text-align: right;\">0.0143</td><td style=\"text-align: right;\">0.0036</td><td style=\"text-align: right;\">0.0103</td><td>R      </td></tr>\n",
       "<tr><td style=\"text-align: right;\">0.0519</td><td style=\"text-align: right;\">0.0548</td><td style=\"text-align: right;\">0.0842</td><td style=\"text-align: right;\">0.0319</td><td style=\"text-align: right;\">0.1158</td><td style=\"text-align: right;\">0.0922</td><td style=\"text-align: right;\">0.1027</td><td style=\"text-align: right;\">0.0613</td><td style=\"text-align: right;\">0.1465</td><td style=\"text-align: right;\">0.2838</td><td style=\"text-align: right;\">0.2802</td><td style=\"text-align: right;\">0.3086</td><td style=\"text-align: right;\">0.2657</td><td style=\"text-align: right;\">0.3801</td><td style=\"text-align: right;\">0.5626</td><td style=\"text-align: right;\">0.4376</td><td style=\"text-align: right;\">0.2617</td><td style=\"text-align: right;\">0.1199</td><td style=\"text-align: right;\">0.6676</td><td style=\"text-align: right;\">0.9402</td><td style=\"text-align: right;\">0.7832</td><td style=\"text-align: right;\">0.5352</td><td style=\"text-align: right;\">0.6809</td><td style=\"text-align: right;\">0.9174</td><td style=\"text-align: right;\">0.7613</td><td style=\"text-align: right;\">0.822 </td><td style=\"text-align: right;\">0.8872</td><td style=\"text-align: right;\">0.6091</td><td style=\"text-align: right;\">0.2967</td><td style=\"text-align: right;\">0.1103</td><td style=\"text-align: right;\">0.1318</td><td style=\"text-align: right;\">0.0624</td><td style=\"text-align: right;\">0.099 </td><td style=\"text-align: right;\">0.4006</td><td style=\"text-align: right;\">0.3666</td><td style=\"text-align: right;\">0.105 </td><td style=\"text-align: right;\">0.1915</td><td style=\"text-align: right;\">0.393 </td><td style=\"text-align: right;\">0.4288</td><td style=\"text-align: right;\">0.2546</td><td style=\"text-align: right;\">0.1151</td><td style=\"text-align: right;\">0.2196</td><td style=\"text-align: right;\">0.1879</td><td style=\"text-align: right;\">0.1437</td><td style=\"text-align: right;\">0.2146</td><td style=\"text-align: right;\">0.236 </td><td style=\"text-align: right;\">0.1125</td><td style=\"text-align: right;\">0.0254</td><td style=\"text-align: right;\">0.0285</td><td style=\"text-align: right;\">0.0178</td><td style=\"text-align: right;\">0.0052</td><td style=\"text-align: right;\">0.0081</td><td style=\"text-align: right;\">0.012 </td><td style=\"text-align: right;\">0.0045</td><td style=\"text-align: right;\">0.0121</td><td style=\"text-align: right;\">0.0097</td><td style=\"text-align: right;\">0.0085</td><td style=\"text-align: right;\">0.0047</td><td style=\"text-align: right;\">0.0048</td><td style=\"text-align: right;\">0.0053</td><td>R      </td></tr>\n",
       "<tr><td style=\"text-align: right;\">0.0223</td><td style=\"text-align: right;\">0.0375</td><td style=\"text-align: right;\">0.0484</td><td style=\"text-align: right;\">0.0475</td><td style=\"text-align: right;\">0.0647</td><td style=\"text-align: right;\">0.0591</td><td style=\"text-align: right;\">0.0753</td><td style=\"text-align: right;\">0.0098</td><td style=\"text-align: right;\">0.0684</td><td style=\"text-align: right;\">0.1487</td><td style=\"text-align: right;\">0.1156</td><td style=\"text-align: right;\">0.1654</td><td style=\"text-align: right;\">0.3833</td><td style=\"text-align: right;\">0.3598</td><td style=\"text-align: right;\">0.1713</td><td style=\"text-align: right;\">0.1136</td><td style=\"text-align: right;\">0.0349</td><td style=\"text-align: right;\">0.3796</td><td style=\"text-align: right;\">0.7401</td><td style=\"text-align: right;\">0.9925</td><td style=\"text-align: right;\">0.9802</td><td style=\"text-align: right;\">0.889 </td><td style=\"text-align: right;\">0.6712</td><td style=\"text-align: right;\">0.4286</td><td style=\"text-align: right;\">0.3374</td><td style=\"text-align: right;\">0.7366</td><td style=\"text-align: right;\">0.9611</td><td style=\"text-align: right;\">0.7353</td><td style=\"text-align: right;\">0.4856</td><td style=\"text-align: right;\">0.1594</td><td style=\"text-align: right;\">0.3007</td><td style=\"text-align: right;\">0.4096</td><td style=\"text-align: right;\">0.317 </td><td style=\"text-align: right;\">0.3305</td><td style=\"text-align: right;\">0.3408</td><td style=\"text-align: right;\">0.2186</td><td style=\"text-align: right;\">0.2463</td><td style=\"text-align: right;\">0.2726</td><td style=\"text-align: right;\">0.168 </td><td style=\"text-align: right;\">0.2792</td><td style=\"text-align: right;\">0.2558</td><td style=\"text-align: right;\">0.174 </td><td style=\"text-align: right;\">0.2121</td><td style=\"text-align: right;\">0.1099</td><td style=\"text-align: right;\">0.0985</td><td style=\"text-align: right;\">0.1271</td><td style=\"text-align: right;\">0.1459</td><td style=\"text-align: right;\">0.1164</td><td style=\"text-align: right;\">0.0777</td><td style=\"text-align: right;\">0.0439</td><td style=\"text-align: right;\">0.0061</td><td style=\"text-align: right;\">0.0145</td><td style=\"text-align: right;\">0.0128</td><td style=\"text-align: right;\">0.0145</td><td style=\"text-align: right;\">0.0058</td><td style=\"text-align: right;\">0.0049</td><td style=\"text-align: right;\">0.0065</td><td style=\"text-align: right;\">0.0093</td><td style=\"text-align: right;\">0.0059</td><td style=\"text-align: right;\">0.0022</td><td>R      </td></tr>\n",
       "<tr><td style=\"text-align: right;\">0.0164</td><td style=\"text-align: right;\">0.0173</td><td style=\"text-align: right;\">0.0347</td><td style=\"text-align: right;\">0.007 </td><td style=\"text-align: right;\">0.0187</td><td style=\"text-align: right;\">0.0671</td><td style=\"text-align: right;\">0.1056</td><td style=\"text-align: right;\">0.0697</td><td style=\"text-align: right;\">0.0962</td><td style=\"text-align: right;\">0.0251</td><td style=\"text-align: right;\">0.0801</td><td style=\"text-align: right;\">0.1056</td><td style=\"text-align: right;\">0.1266</td><td style=\"text-align: right;\">0.089 </td><td style=\"text-align: right;\">0.0198</td><td style=\"text-align: right;\">0.1133</td><td style=\"text-align: right;\">0.2826</td><td style=\"text-align: right;\">0.3234</td><td style=\"text-align: right;\">0.3238</td><td style=\"text-align: right;\">0.4333</td><td style=\"text-align: right;\">0.6068</td><td style=\"text-align: right;\">0.7652</td><td style=\"text-align: right;\">0.9203</td><td style=\"text-align: right;\">0.9719</td><td style=\"text-align: right;\">0.9207</td><td style=\"text-align: right;\">0.7545</td><td style=\"text-align: right;\">0.8289</td><td style=\"text-align: right;\">0.8907</td><td style=\"text-align: right;\">0.7309</td><td style=\"text-align: right;\">0.6896</td><td style=\"text-align: right;\">0.5829</td><td style=\"text-align: right;\">0.4935</td><td style=\"text-align: right;\">0.3101</td><td style=\"text-align: right;\">0.0306</td><td style=\"text-align: right;\">0.0244</td><td style=\"text-align: right;\">0.1108</td><td style=\"text-align: right;\">0.1594</td><td style=\"text-align: right;\">0.1371</td><td style=\"text-align: right;\">0.0696</td><td style=\"text-align: right;\">0.0452</td><td style=\"text-align: right;\">0.062 </td><td style=\"text-align: right;\">0.1421</td><td style=\"text-align: right;\">0.1597</td><td style=\"text-align: right;\">0.1384</td><td style=\"text-align: right;\">0.0372</td><td style=\"text-align: right;\">0.0688</td><td style=\"text-align: right;\">0.0867</td><td style=\"text-align: right;\">0.0513</td><td style=\"text-align: right;\">0.0092</td><td style=\"text-align: right;\">0.0198</td><td style=\"text-align: right;\">0.0118</td><td style=\"text-align: right;\">0.009 </td><td style=\"text-align: right;\">0.0223</td><td style=\"text-align: right;\">0.0179</td><td style=\"text-align: right;\">0.0084</td><td style=\"text-align: right;\">0.0068</td><td style=\"text-align: right;\">0.0032</td><td style=\"text-align: right;\">0.0035</td><td style=\"text-align: right;\">0.0056</td><td style=\"text-align: right;\">0.004 </td><td>R      </td></tr>\n",
       "</tbody>\n",
       "</table>"
      ]
     },
     "metadata": {},
     "output_type": "display_data"
    },
    {
     "data": {
      "text/plain": []
     },
     "execution_count": 8,
     "metadata": {},
     "output_type": "execute_result"
    }
   ],
   "source": [
    "df.head()"
   ]
  },
  {
   "cell_type": "code",
   "execution_count": 10,
   "metadata": {},
   "outputs": [
    {
     "name": "stdout",
     "output_type": "stream",
     "text": [
      "Response = Class\n",
      "Pridictors = ['V1', 'V2', 'V3', 'V4', 'V5', 'V6', 'V7', 'V8', 'V9', 'V10', 'V11', 'V12', 'V13', 'V14', 'V15', 'V16', 'V17', 'V18', 'V19', 'V20', 'V21', 'V22', 'V23', 'V24', 'V25', 'V26', 'V27', 'V28', 'V29', 'V30', 'V31', 'V32', 'V33', 'V34', 'V35', 'V36', 'V37', 'V38', 'V39', 'V40', 'V41', 'V42', 'V43', 'V44', 'V45', 'V46', 'V47', 'V48', 'V49', 'V50', 'V51', 'V52', 'V53', 'V54', 'V55', 'V56', 'V57', 'V58', 'V59', 'V60']\n"
     ]
    }
   ],
   "source": [
    "print(\"Response = \" + y_col)\n",
    "print(\"Pridictors = \" + str(x_cols))   # no need of getDummies"
   ]
  },
  {
   "cell_type": "code",
   "execution_count": 11,
   "metadata": {},
   "outputs": [
    {
     "data": {
      "text/plain": [
       "[['M', 'R']]"
      ]
     },
     "execution_count": 11,
     "metadata": {},
     "output_type": "execute_result"
    }
   ],
   "source": [
    "df['Class'] = df['Class'].asfactor()\n",
    "df['Class'].levels()\n"
   ]
  },
  {
   "cell_type": "code",
   "execution_count": 12,
   "metadata": {},
   "outputs": [],
   "source": [
    "train,  test = df.split_frame(ratios=[.8])\n"
   ]
  },
  {
   "cell_type": "code",
   "execution_count": 13,
   "metadata": {},
   "outputs": [
    {
     "name": "stdout",
     "output_type": "stream",
     "text": [
      "(208, 61)\n",
      "(172, 61)\n",
      "(36, 61)\n"
     ]
    }
   ],
   "source": [
    "print(df.shape)\n",
    "print(train.shape)\n",
    "#print(valid.shape)\n",
    "print(test.shape)"
   ]
  },
  {
   "cell_type": "code",
   "execution_count": 14,
   "metadata": {},
   "outputs": [
    {
     "name": "stdout",
     "output_type": "stream",
     "text": [
      "glm Model Build progress: |███████████████████████████████████████████████| 100%\n",
      "glm prediction progress: |████████████████████████████████████████████████| 100%\n",
      "0.9229619565217391\n",
      "\n",
      "Confusion Matrix (Act/Pred) for max f1 @ threshold = 0.49454484266234267: \n"
     ]
    },
    {
     "data": {
      "text/html": [
       "<div>\n",
       "<style scoped>\n",
       "    .dataframe tbody tr th:only-of-type {\n",
       "        vertical-align: middle;\n",
       "    }\n",
       "\n",
       "    .dataframe tbody tr th {\n",
       "        vertical-align: top;\n",
       "    }\n",
       "\n",
       "    .dataframe thead th {\n",
       "        text-align: right;\n",
       "    }\n",
       "</style>\n",
       "<table border=\"1\" class=\"dataframe\">\n",
       "  <thead>\n",
       "    <tr style=\"text-align: right;\">\n",
       "      <th></th>\n",
       "      <th></th>\n",
       "      <th>M</th>\n",
       "      <th>R</th>\n",
       "      <th>Error</th>\n",
       "      <th>Rate</th>\n",
       "    </tr>\n",
       "  </thead>\n",
       "  <tbody>\n",
       "    <tr>\n",
       "      <th>0</th>\n",
       "      <td>M</td>\n",
       "      <td>79.0</td>\n",
       "      <td>13.0</td>\n",
       "      <td>0.1413</td>\n",
       "      <td>(13.0/92.0)</td>\n",
       "    </tr>\n",
       "    <tr>\n",
       "      <th>1</th>\n",
       "      <td>R</td>\n",
       "      <td>12.0</td>\n",
       "      <td>68.0</td>\n",
       "      <td>0.15</td>\n",
       "      <td>(12.0/80.0)</td>\n",
       "    </tr>\n",
       "    <tr>\n",
       "      <th>2</th>\n",
       "      <td>Total</td>\n",
       "      <td>91.0</td>\n",
       "      <td>81.0</td>\n",
       "      <td>0.1453</td>\n",
       "      <td>(25.0/172.0)</td>\n",
       "    </tr>\n",
       "  </tbody>\n",
       "</table>\n",
       "</div>"
      ],
      "text/plain": [
       "             M     R   Error           Rate\n",
       "0      M  79.0  13.0  0.1413    (13.0/92.0)\n",
       "1      R  12.0  68.0    0.15    (12.0/80.0)\n",
       "2  Total  91.0  81.0  0.1453   (25.0/172.0)"
      ]
     },
     "metadata": {},
     "output_type": "display_data"
    },
    {
     "name": "stdout",
     "output_type": "stream",
     "text": [
      "\n"
     ]
    }
   ],
   "source": [
    "from h2o.estimators.glm import H2OGeneralizedLinearEstimator\n",
    "glm_logistic = H2OGeneralizedLinearEstimator(family = \"binomial\")\n",
    "glm_logistic.train(x=x_cols, y=y_col, training_frame=train, \n",
    "                   validation_frame=test, model_id=\"glm_logistic\")\n",
    "\n",
    "y_pred = glm_logistic.predict(test_data=test)\n",
    "\n",
    "y_pred_df = y_pred.as_data_frame()\n",
    "\n",
    "print(glm_logistic.auc() )\n",
    "print(glm_logistic.confusion_matrix() )"
   ]
  },
  {
   "cell_type": "markdown",
   "metadata": {},
   "source": [
    "# accuaracy of ou rmodel is 0.92226\n"
   ]
  }
 ],
 "metadata": {
  "kernelspec": {
   "display_name": "Python 3",
   "language": "python",
   "name": "python3"
  },
  "language_info": {
   "codemirror_mode": {
    "name": "ipython",
    "version": 3
   },
   "file_extension": ".py",
   "mimetype": "text/x-python",
   "name": "python",
   "nbconvert_exporter": "python",
   "pygments_lexer": "ipython3",
   "version": "3.8.3"
  }
 },
 "nbformat": 4,
 "nbformat_minor": 4
}
